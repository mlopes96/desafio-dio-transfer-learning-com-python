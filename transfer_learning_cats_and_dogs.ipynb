{
  "nbformat": 4,
  "nbformat_minor": 0,
  "metadata": {
    "colab": {
      "provenance": [],
      "toc_visible": true,
      "authorship_tag": "ABX9TyM9xWAfVF6V4RmVApJOyFnv",
      "include_colab_link": true
    },
    "kernelspec": {
      "name": "python3",
      "display_name": "Python 3"
    },
    "language_info": {
      "name": "python"
    }
  },
  "cells": [
    {
      "cell_type": "markdown",
      "metadata": {
        "id": "view-in-github",
        "colab_type": "text"
      },
      "source": [
        "<a href=\"https://colab.research.google.com/github/mlopes96/desafio-dio-transfer-learning-com-python/blob/main/transfer_learning_cats_and_dogs.ipynb\" target=\"_parent\"><img src=\"https://colab.research.google.com/assets/colab-badge.svg\" alt=\"Open In Colab\"/></a>"
      ]
    },
    {
      "cell_type": "markdown",
      "source": [
        "# Treinamento de Redes Neurais com Transfer Learning\n",
        "Desafio para a Formação Machine Learning da DIO, sobre Treinamento de Redes Neurais com Transfer Learning, usando Python."
      ],
      "metadata": {
        "id": "qHIwAAMd1XIy"
      }
    },
    {
      "cell_type": "markdown",
      "source": [
        "Inicia pela importação das bibliotecas e a conexão com o Drive"
      ],
      "metadata": {
        "id": "cSgADc4I8Ug_"
      }
    },
    {
      "cell_type": "code",
      "source": [
        "# Inicia importando as bibliotecas\n",
        "import tensorflow as tf\n",
        "from keras.models import model_from_json\n",
        "from keras.preprocessing.image import ImageDataGenerator\n",
        "from keras.applications import MobileNetV2\n",
        "from keras.layers import Dense\n",
        "from keras.layers import GlobalAveragePooling2D\n",
        "from keras.layers import Dropout\n",
        "from keras.regularizers import l2\n",
        "from keras.models import Model\n",
        "from keras.optimizers import Adam\n",
        "import matplotlib.pyplot as plt\n",
        "from sklearn.metrics import confusion_matrix\n",
        "import numpy as np\n",
        "import cv2"
      ],
      "metadata": {
        "id": "VyY2lvcA1V6a"
      },
      "execution_count": null,
      "outputs": []
    },
    {
      "cell_type": "code",
      "source": [
        "# Faz a conexão com o Google Drive\n",
        "from google.colab import drive\n",
        "drive.mount('/content/drive')"
      ],
      "metadata": {
        "colab": {
          "base_uri": "https://localhost:8080/"
        },
        "id": "Nnu_UQWB1V-I",
        "outputId": "170dba32-4203-484a-b52d-d079b487e8a8"
      },
      "execution_count": null,
      "outputs": [
        {
          "output_type": "stream",
          "name": "stdout",
          "text": [
            "Mounted at /content/drive\n"
          ]
        }
      ]
    },
    {
      "cell_type": "code",
      "source": [
        "# Caminho para a pasta onde estão as imagens\n",
        "path = f'/content/drive/MyDrive/Colab Notebooks/TransferLearning/cat_dog'\n",
        "\n",
        "# Imagens de Teste\n",
        "test_set = f'{path}/test_set'\n",
        "\n",
        "# Imagens de Treinamento\n",
        "training_set = f'{path}/training_set'\n"
      ],
      "metadata": {
        "id": "Tzo3F27G4BnJ"
      },
      "execution_count": null,
      "outputs": []
    },
    {
      "cell_type": "markdown",
      "source": [
        "Confere as informações das imagens carregadas"
      ],
      "metadata": {
        "id": "zzsBfKg0X1SB"
      }
    },
    {
      "cell_type": "code",
      "source": [
        "# Carrega uma imagem de treinamento de amostra\n",
        "imagem_exemplo = cv2.imread(f'{training_set}/dog/dog.100.jpg')\n",
        "\n",
        "# Obtém as dimensões da imagem\n",
        "altura, largura, canais_de_cor = imagem_exemplo.shape\n",
        "\n",
        "print(\"Altura:\", altura)\n",
        "print(\"Largura:\", largura)\n",
        "print(\"Canais de Cor:\", canais_de_cor)"
      ],
      "metadata": {
        "colab": {
          "base_uri": "https://localhost:8080/"
        },
        "id": "T4FwJmTGXbjh",
        "outputId": "e15c4944-0a02-4622-ce45-dc6132b794f4"
      },
      "execution_count": null,
      "outputs": [
        {
          "output_type": "stream",
          "name": "stdout",
          "text": [
            "Altura: 397\n",
            "Largura: 500\n",
            "Canais de Cor: 3\n"
          ]
        }
      ]
    },
    {
      "cell_type": "markdown",
      "source": [
        "Separa e pré-processa os dados de treinamento e de teste"
      ],
      "metadata": {
        "id": "XNmwoMiy8h71"
      }
    },
    {
      "cell_type": "code",
      "source": [
        "# Carrega e pré-processa os dados de treinamento e teste\n",
        "train_datagen = ImageDataGenerator(rescale=1.0/255)\n",
        "test_datagen = ImageDataGenerator(rescale=1.0/255)\n",
        "\n",
        "train_generator = train_datagen.flow_from_directory(training_set,\n",
        "                                                    target_size=(224, 224),\n",
        "                                                    batch_size=32,\n",
        "                                                    class_mode='binary')\n",
        "\n",
        "test_generator = test_datagen.flow_from_directory(test_set,\n",
        "                                                  target_size=(224, 224),\n",
        "                                                  batch_size=32,\n",
        "                                                  class_mode='binary')"
      ],
      "metadata": {
        "colab": {
          "base_uri": "https://localhost:8080/"
        },
        "id": "2-FSHHcI2ZQN",
        "outputId": "3a28dea1-6021-4b08-8dec-7719b155c10e"
      },
      "execution_count": null,
      "outputs": [
        {
          "output_type": "stream",
          "name": "stdout",
          "text": [
            "Found 4000 images belonging to 2 classes.\n",
            "Found 1000 images belonging to 2 classes.\n"
          ]
        }
      ]
    },
    {
      "cell_type": "markdown",
      "source": [
        "Carrega o modelo de rede neural MobileNetV2 e faz o treinamento da rede"
      ],
      "metadata": {
        "id": "k41H8pYf8uGL"
      }
    },
    {
      "cell_type": "code",
      "source": [
        "# Carrega o modelo MobileNetV2 pré-treinado e remove a camada de saída original\n",
        "base_model = MobileNetV2(weights='imagenet',\n",
        "                         include_top=False,\n",
        "                         input_shape=(224,224,3))\n",
        "\n",
        "# Congela todas as camadas do modelo base\n",
        "for layer in base_model.layers:\n",
        "    layer.trainable = False\n",
        "\n",
        "\n",
        "# Cria um novo modelo que consiste no modelo base MobileNetV2 seguido por algumas camadas personalizadas\n",
        "head_model = base_model.output\n",
        "head_model = GlobalAveragePooling2D()(head_model)\n",
        "head_model = Dense(640, activation='relu', kernel_initializer='he_normal', kernel_regularizer=l2(0.01))(head_model)\n",
        "head_model = Dropout(0.2)(head_model)\n",
        "head_model = Dense(640, activation='relu', kernel_initializer='he_normal', kernel_regularizer=l2(0.01))(head_model)\n",
        "head_model = Dropout(0.2)(head_model)\n",
        "predictions = Dense(1, activation='sigmoid')(head_model) # Camada de saída binária\n",
        "\n",
        "model = Model(inputs=base_model.input, outputs=predictions)"
      ],
      "metadata": {
        "id": "T3iFPzbi2ZU8"
      },
      "execution_count": null,
      "outputs": []
    },
    {
      "cell_type": "code",
      "source": [
        "# Compila o modelo e o treina usando os dados de treinamento.\n",
        "optimizer = Adam(learning_rate=0.001)\n",
        "model.compile(optimizer=optimizer, loss='binary_crossentropy', metrics=['accuracy'])\n",
        "\n",
        "history = model.fit(train_generator,\n",
        "                    epochs=10,\n",
        "                    steps_per_epoch=len(train_generator),\n",
        "                    validation_data=test_generator,\n",
        "                    validation_steps=len(test_generator))"
      ],
      "metadata": {
        "colab": {
          "base_uri": "https://localhost:8080/"
        },
        "id": "dafBu4eT5bNb",
        "outputId": "9025afc0-5a8f-4972-d082-037776666216"
      },
      "execution_count": null,
      "outputs": [
        {
          "output_type": "stream",
          "name": "stdout",
          "text": [
            "Epoch 1/10\n",
            "125/125 [==============================] - 734s 6s/step - loss: 9.2086 - accuracy: 0.9582 - val_loss: 1.8146 - val_accuracy: 0.9520\n",
            "Epoch 2/10\n",
            "125/125 [==============================] - 163s 1s/step - loss: 0.7543 - accuracy: 0.9790 - val_loss: 0.3822 - val_accuracy: 0.9530\n",
            "Epoch 3/10\n",
            "125/125 [==============================] - 151s 1s/step - loss: 0.2068 - accuracy: 0.9775 - val_loss: 0.1752 - val_accuracy: 0.9660\n",
            "Epoch 4/10\n",
            "125/125 [==============================] - 155s 1s/step - loss: 0.1317 - accuracy: 0.9810 - val_loss: 0.1312 - val_accuracy: 0.9780\n",
            "Epoch 5/10\n",
            "125/125 [==============================] - 162s 1s/step - loss: 0.1120 - accuracy: 0.9818 - val_loss: 0.1253 - val_accuracy: 0.9780\n",
            "Epoch 6/10\n",
            "125/125 [==============================] - 167s 1s/step - loss: 0.1213 - accuracy: 0.9795 - val_loss: 0.1305 - val_accuracy: 0.9700\n",
            "Epoch 7/10\n",
            "125/125 [==============================] - 160s 1s/step - loss: 0.1087 - accuracy: 0.9840 - val_loss: 0.1257 - val_accuracy: 0.9800\n",
            "Epoch 8/10\n",
            "125/125 [==============================] - 168s 1s/step - loss: 0.0958 - accuracy: 0.9840 - val_loss: 0.1195 - val_accuracy: 0.9780\n",
            "Epoch 9/10\n",
            "125/125 [==============================] - 168s 1s/step - loss: 0.0957 - accuracy: 0.9825 - val_loss: 0.1150 - val_accuracy: 0.9780\n",
            "Epoch 10/10\n",
            "125/125 [==============================] - 165s 1s/step - loss: 0.0887 - accuracy: 0.9847 - val_loss: 0.1130 - val_accuracy: 0.9770\n"
          ]
        }
      ]
    },
    {
      "cell_type": "markdown",
      "source": [
        "Faz a avaliação padrão da rede treinada"
      ],
      "metadata": {
        "id": "VsfF6t5Q88UP"
      }
    },
    {
      "cell_type": "code",
      "source": [
        "# Após o treinamento, o modelo é avaliado para visualizar suas métricas de desempenho\n",
        "test_loss, test_accuracy = model.evaluate(test_generator, steps=len(test_generator))\n",
        "print(f\"Acurácia no conjunto de teste: {test_accuracy}\")\n",
        "\n",
        "# Plota as curvas de aprendizado\n",
        "plt.plot(history.history['accuracy'])\n",
        "plt.plot(history.history['val_accuracy'])\n",
        "plt.title('Curvas de Aprendizado')\n",
        "plt.xlabel('Épocas')\n",
        "plt.ylabel('Acurácia')\n",
        "plt.legend(['Treinamento', 'Validação'], loc='upper left')\n",
        "plt.show()"
      ],
      "metadata": {
        "colab": {
          "base_uri": "https://localhost:8080/",
          "height": 509
        },
        "id": "CCAyRCnt5cRy",
        "outputId": "21d44b54-84f1-431e-d3f4-e1b403089d73"
      },
      "execution_count": null,
      "outputs": [
        {
          "output_type": "stream",
          "name": "stdout",
          "text": [
            "32/32 [==============================] - 32s 991ms/step - loss: 0.1130 - accuracy: 0.9770\n",
            "Acurácia no conjunto de teste: 0.9769999980926514\n"
          ]
        },
        {
          "output_type": "display_data",
          "data": {
            "text/plain": [
              "<Figure size 640x480 with 1 Axes>"
            ],
            "image/png": "[encoded data removed]"
          },
          "metadata": {}
        }
      ]
    },
    {
      "cell_type": "markdown",
      "source": [
        "Gera a matriz de confusão dos acertos e erros do algoritmo"
      ],
      "metadata": {
        "id": "TunIr9TO9CsM"
      }
    },
    {
      "cell_type": "code",
      "source": [
        "# Realiza as previsões no conjunto de teste usando o modelo treinado\n",
        "predictions = model.predict(test_generator)\n",
        "\n",
        "# Utiliza um limiar adequado de 0.5 para classificação binária\n",
        "y_pred = (predictions > 0.5).astype(int)\n",
        "\n",
        "# Obtém os rótulos verdadeiros do conjunto de teste\n",
        "y_true = test_generator.classes\n",
        "\n",
        "# Calcula a matriz de confusão\n",
        "confusion = confusion_matrix(y_true, y_pred)"
      ],
      "metadata": {
        "colab": {
          "base_uri": "https://localhost:8080/"
        },
        "id": "YcTPYFB45ceV",
        "outputId": "d342a982-f7af-46ef-ce92-7d72b2533c2c"
      },
      "execution_count": null,
      "outputs": [
        {
          "output_type": "stream",
          "name": "stdout",
          "text": [
            "32/32 [==============================] - 33s 985ms/step\n"
          ]
        }
      ]
    },
    {
      "cell_type": "code",
      "source": [
        "import matplotlib.pyplot as plt\n",
        "import seaborn as sns\n",
        "\n",
        "# Crie um gráfico da matriz de confusão\n",
        "plt.figure(figsize=(8, 6))\n",
        "sns.heatmap(confusion, annot=True, fmt='d', cmap='Blues', cbar=False)\n",
        "plt.title('Matriz de Confusão')\n",
        "plt.show()"
      ],
      "metadata": {
        "colab": {
          "base_uri": "https://localhost:8080/",
          "height": 545
        },
        "id": "MXdJliwY7Q2D",
        "outputId": "bbfc7e03-2dc5-4289-f5f8-f527b38dc96b"
      },
      "execution_count": null,
      "outputs": [
        {
          "output_type": "display_data",
          "data": {
            "text/plain": [
              "<Figure size 800x600 with 1 Axes>"
            ],
            "image/png": "[encoded data removed]"
          },
          "metadata": {}
        }
      ]
    },
    {
      "cell_type": "markdown",
      "source": [
        "Realiza os Cálculo das Métricas de Avaliação de Aprendizado"
      ],
      "metadata": {
        "id": "13DeNTmppHLQ"
      }
    },
    {
      "cell_type": "code",
      "source": [
        "# Extrai os valores da matriz de confusão\n",
        "VP = confusion[1, 1]  # Verdadeiros Positivos\n",
        "VN = confusion[0, 0]  # Verdadeiros Negativos\n",
        "FP = confusion[0, 1]  # Falsos Positivos\n",
        "FN = confusion[1, 0]  # Falsos Negativos\n",
        "\n",
        "# Faz o cálculo das métricas de avaliação\n",
        "acuracia = (VP + VN) / (VP + VN + FP + FN)\n",
        "sensibilidade = VP / (VP + FN)\n",
        "especificidade = VN / (VN + FP)\n",
        "precisao = VP / (VP + FP)\n",
        "fscore = 2 * (precisao * sensibilidade) / (precisao + sensibilidade)\n",
        "\n",
        "# Imprime as métricas\n",
        "print(\"Acurácia:\", acuracia)\n",
        "print(\"Sensibilidade:\", sensibilidade)\n",
        "print(\"Especificidade:\", especificidade)\n",
        "print(\"Precisão:\", precisao)\n",
        "print(\"F-score:\", fscore)"
      ],
      "metadata": {
        "colab": {
          "base_uri": "https://localhost:8080/"
        },
        "id": "mHFdmlXl7cgQ",
        "outputId": "2902e326-37c3-4615-ade3-f380b2958ce9"
      },
      "execution_count": null,
      "outputs": [
        {
          "output_type": "stream",
          "name": "stdout",
          "text": [
            "Acurácia: 0.511\n",
            "Sensibilidade: 0.51\n",
            "Especificidade: 0.512\n",
            "Precisão: 0.5110220440881763\n",
            "F-score: 0.5105105105105106\n"
          ]
        }
      ]
    },
    {
      "cell_type": "markdown",
      "source": [
        "Exporta o modelo da rede que foi treinada"
      ],
      "metadata": {
        "id": "IpsfFD9N9W5B"
      }
    },
    {
      "cell_type": "code",
      "source": [
        "# Salva a arquitetura do modelo em um arquivo JSON\n",
        "model_json = model.to_json()\n",
        "with open(\"model_cats_dogs.json\", \"w\") as json_file:\n",
        "    json_file.write(model_json)\n",
        "\n",
        "# Salva os pesos do modelo em um arquivo HDF5\n",
        "model.save_weights(\"weights_cats_dogs.h5\")"
      ],
      "metadata": {
        "id": "qZNE8uj09Wgw"
      },
      "execution_count": 19,
      "outputs": []
    },
    {
      "cell_type": "markdown",
      "source": [
        "Carrega o modelo da rede"
      ],
      "metadata": {
        "id": "U3hNT3xTCkmJ"
      }
    },
    {
      "cell_type": "code",
      "source": [
        "# Carrega a arquitetura do modelo a partir do arquivo JSON\n",
        "with open(\"model_cats_dogs.json\", \"r\") as json_file:\n",
        "    model_json = json_file.read()\n",
        "model_load = model_from_json(model_json)\n",
        "\n",
        "# Carrega os pesos do modelo a partir do arquivo HDF5\n",
        "model_load.load_weights(\"weights_cats_dogs.h5\")"
      ],
      "metadata": {
        "id": "PlJCkPMi9WQL"
      },
      "execution_count": 20,
      "outputs": []
    },
    {
      "cell_type": "markdown",
      "source": [
        "Carrega uma imagem de um cachorro e faz a predição"
      ],
      "metadata": {
        "id": "S5QZGG-KCoRf"
      }
    },
    {
      "cell_type": "code",
      "source": [
        "# Carrega a imagem\n",
        "imagem1 = cv2.imread('/content/drive/MyDrive/Colab Notebooks/TransferLearning/Labrador.jpg')\n",
        "\n",
        "# Pré-processa a imagem para corresponder ao formato de entrada do modelo\n",
        "imagem1 = cv2.resize(imagem1, (224, 224))\n",
        "\n",
        "# Normaliza os valores dos pixels\n",
        "imagem1 = imagem1 / 255.0\n",
        "\n",
        "# Fazer previsões com o modelo carregado\n",
        "previsao = model_load.predict(np.expand_dims(imagem1, axis=0))\n",
        "\n",
        "# Interpretar a previsão (se é um gato ou um cachorro)\n",
        "if previsao[0][0] > 0.5:\n",
        "    classe_prevista = \"Cachorro\"\n",
        "else:\n",
        "    classe_prevista = \"Gato\"\n",
        "\n",
        "print(f\"A imagem é um(a) {classe_prevista}.\")"
      ],
      "metadata": {
        "colab": {
          "base_uri": "https://localhost:8080/"
        },
        "id": "l4tygkBBALg0",
        "outputId": "0e34a611-3ed3-4d74-da64-43303b49c9a3"
      },
      "execution_count": 21,
      "outputs": [
        {
          "output_type": "stream",
          "name": "stdout",
          "text": [
            "1/1 [==============================] - 3s 3s/step\n",
            "A imagem é um(a) Cachorro.\n"
          ]
        }
      ]
    },
    {
      "cell_type": "markdown",
      "source": [
        "Carrega uma imagem de um gato e faz a predição"
      ],
      "metadata": {
        "id": "0IVfjiGXhskZ"
      }
    },
    {
      "cell_type": "code",
      "source": [
        "# Carrega a imagem\n",
        "imagem2 = cv2.imread('/content/drive/MyDrive/Colab Notebooks/TransferLearning/Gato.jpg')\n",
        "\n",
        "# Pré-processa a imagem para corresponder ao formato de entrada do modelo\n",
        "imagem2 = cv2.resize(imagem2, (224, 224))\n",
        "\n",
        "# Normaliza os valores dos pixels\n",
        "imagem2 = imagem2 / 255.0\n",
        "\n",
        "# Fazer previsões com o modelo carregado\n",
        "previsao = model_load.predict(np.expand_dims(imagem2, axis=0))\n",
        "\n",
        "# Interpretar a previsão (se é um gato ou um cachorro)\n",
        "if previsao[0][0] > 0.5:\n",
        "    classe_prevista = \"Cachorro\"\n",
        "else:\n",
        "    classe_prevista = \"Gato\"\n",
        "\n",
        "print(f\"A imagem é um(a) {classe_prevista}.\")"
      ],
      "metadata": {
        "colab": {
          "base_uri": "https://localhost:8080/"
        },
        "id": "ZbUu7hp8hu3j",
        "outputId": "01c017b6-6dce-4949-bce5-9367d46cd13c"
      },
      "execution_count": 22,
      "outputs": [
        {
          "output_type": "stream",
          "name": "stdout",
          "text": [
            "1/1 [==============================] - 0s 43ms/step\n",
            "A imagem é um(a) Gato.\n"
          ]
        }
      ]
    }
  ]
}